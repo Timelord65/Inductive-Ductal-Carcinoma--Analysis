{
 "cells": [
  {
   "cell_type": "markdown",
   "metadata": {},
   "source": [
    "### Importing the required Libraries"
   ]
  },
  {
   "cell_type": "code",
   "execution_count": 9,
   "metadata": {},
   "outputs": [],
   "source": [
    "import pandas as pd\n",
    "import numpy as np\n",
    "import os\n",
    "from glob import glob\n",
    "import matplotlib.pyplot as plt\n",
    "import seaborn as sns\n",
    "import cv2\n",
    "from sklearn.model_selection import train_test_split\n",
    "from sklearn.metrics import classification_report, confusion_matrix\n",
    "import fnmatch\n",
    "import itertools"
   ]
  },
  {
   "cell_type": "code",
   "execution_count": 35,
   "metadata": {},
   "outputs": [],
   "source": [
    "from __future__ import print_function\n",
    "import keras\n",
    "from keras.preprocessing.image import ImageDataGenerator\n",
    "from keras.models import Sequential\n",
    "from keras.layers import Dense, Dropout, Flatten\n",
    "from keras.layers import Conv2D, MaxPooling2D\n",
    "from keras import backend as K\n",
    "from keras.utils.np_utils import to_categorical\n"
   ]
  },
  {
   "cell_type": "markdown",
   "metadata": {},
   "source": [
    "### Exploration"
   ]
  },
  {
   "cell_type": "code",
   "execution_count": 11,
   "metadata": {},
   "outputs": [],
   "source": [
    "\n",
    "images = glob('./IDC/breast-histopathology-images/IDC_regular_ps50_idx5/**/*.png', recursive=True)\n"
   ]
  },
  {
   "cell_type": "code",
   "execution_count": 12,
   "metadata": {},
   "outputs": [
    {
     "name": "stdout",
     "output_type": "stream",
     "text": [
      "./IDC/breast-histopathology-images/IDC_regular_ps50_idx5/9383/0/9383_idx5_x601_y551_class0.png\n"
     ]
    }
   ],
   "source": [
    "print(images[0])"
   ]
  },
  {
   "cell_type": "code",
   "execution_count": 13,
   "metadata": {},
   "outputs": [
    {
     "data": {
      "image/png": "[encoded data removed]",
      "text/plain": [
       "<Figure size 432x288 with 1 Axes>"
      ]
     },
     "metadata": {
      "needs_background": "light"
     },
     "output_type": "display_data"
    }
   ],
   "source": [
    "def Print_img(image_path):\n",
    "    image = cv2.imread(image_path)\n",
    "    plt.imshow(cv2.cvtColor(image, cv2.COLOR_BGR2RGB))\n",
    "    \n",
    "Print_img(images[0])"
   ]
  },
  {
   "cell_type": "code",
   "execution_count": 14,
   "metadata": {},
   "outputs": [],
   "source": [
    "num_zero = fnmatch.filter(images, '*class0.png') # Contains all the paths with IDC(-)\n",
    "num_one = fnmatch.filter(images, '*class1.png') # Contains all the paths with IDC(+)\n"
   ]
  },
  {
   "cell_type": "code",
   "execution_count": 15,
   "metadata": {},
   "outputs": [
    {
     "name": "stdout",
     "output_type": "stream",
     "text": [
      "277524\n"
     ]
    }
   ],
   "source": [
    "total = len(images)\n",
    "print(total) # Total number of images. This is what we expected"
   ]
  },
  {
   "cell_type": "code",
   "execution_count": 16,
   "metadata": {},
   "outputs": [
    {
     "name": "stdout",
     "output_type": "stream",
     "text": [
      "78786\n"
     ]
    }
   ],
   "source": [
    "total_one = len(num_one)\n",
    "print(len(num_one)) # The number of images iwth IDC(+)"
   ]
  },
  {
   "cell_type": "markdown",
   "metadata": {},
   "source": [
    " We see that the dataset is not without it's flaws. The dataset is clearly unbalenced with only 78786 images for IDC(+). Which means almost 71 percent of the dataset has only IDC(-). To balence out the data, the following function will try to have to equal number of both images.\n",
    "\n",
    "Even randomly choosing the images doesn't seem to be of much help because of the huge size of IDC(-). "
   ]
  },
  {
   "cell_type": "markdown",
   "metadata": {},
   "source": [
    "### Data Processing"
   ]
  },
  {
   "cell_type": "code",
   "execution_count": 18,
   "metadata": {},
   "outputs": [],
   "source": [
    "def create_dataset(para, num_zero, num_one):\n",
    "    x = []\n",
    "    y = []\n",
    "    \n",
    "    for i in range(0, int(para/2)):\n",
    "        og = cv2.imread(num_one[i])\n",
    "        og = cv2.resize(og, (50, 50), interpolation = cv2.INTER_CUBIC)\n",
    "        x.append(og)\n",
    "        y.append(1)\n",
    "    \n",
    "    k = 0\n",
    "    for j in range(int(para/2), para):\n",
    "        og = cv2.imread(num_zero[k])\n",
    "        og = cv2.resize(og, (50, 50), interpolation = cv2.INTER_CUBIC)\n",
    "        x.append(og)\n",
    "        y.append(0)\n",
    "        k += 1\n",
    "    \n",
    "    \n",
    "    return x, y # Returns the lists containg the images as members. "
   ]
  },
  {
   "cell_type": "code",
   "execution_count": 19,
   "metadata": {},
   "outputs": [],
   "source": [
    "# def create_dataset(para, num_zero, num_one):\n",
    "#     x = []\n",
    "#     y = []\n",
    "    \n",
    "#     size = 0\n",
    "    \n",
    "#     for img in images[:para]:\n",
    "#         og = cv2.imread(img)\n",
    "#         og = cv2.resize(og, (50, 50), interpolation = cv2.INTER_CUBIC)\n",
    "#         x.append(og)\n",
    "#         if img in num_zero:\n",
    "#             y.append(0)\n",
    "#         else:\n",
    "#             y.append(1)\n",
    "    \n",
    "#     return x, y\n",
    "    \n",
    "    \n",
    "    \n",
    "   \n",
    "    "
   ]
  },
  {
   "cell_type": "code",
   "execution_count": 20,
   "metadata": {},
   "outputs": [],
   "source": [
    "# x = []\n",
    "# y = []\n",
    "\n",
    "# for img in images:\n",
    "#     x.append(cv2.resize(cv2.imread(img), (50, 50), interpolation = cv2.INTER_CUBIC))\n",
    "#     if img in num_zero:\n",
    "#         y.append(0)\n",
    "#     if img in num_one:\n",
    "#         y.append(1)\n",
    "\n",
    "\n"
   ]
  },
  {
   "cell_type": "code",
   "execution_count": 21,
   "metadata": {},
   "outputs": [],
   "source": [
    "# image_data = pd.DataFrame()\n",
    "\n",
    "\n"
   ]
  },
  {
   "cell_type": "code",
   "execution_count": 22,
   "metadata": {},
   "outputs": [],
   "source": [
    "# image_data['images'] = x\n",
    "# image_data['result'] = y"
   ]
  },
  {
   "cell_type": "code",
   "execution_count": 23,
   "metadata": {},
   "outputs": [],
   "source": [
    "x, y = create_dataset(90000, num_zero, num_one) # Creating the lists. "
   ]
  },
  {
   "cell_type": "code",
   "execution_count": 24,
   "metadata": {},
   "outputs": [],
   "source": [
    "image_data = pd.DataFrame()\n",
    "image_data[\"images\"] = x\n",
    "image_data[\"target\"] = y"
   ]
  },
  {
   "cell_type": "markdown",
   "metadata": {},
   "source": [
    "We see that function solves the unbalenced nature of the data set but only for data sizes such that size/2 <= 78786(number of IDC(+)). If the data set is larger than this then this wont work. Although the function itself works fine it just wont return equal sizes of both types. "
   ]
  },
  {
   "cell_type": "code",
   "execution_count": 25,
   "metadata": {},
   "outputs": [
    {
     "data": {
      "text/plain": [
       "<matplotlib.axes._subplots.AxesSubplot at 0x7fc02690c668>"
      ]
     },
     "execution_count": 25,
     "metadata": {},
     "output_type": "execute_result"
    },
    {
     "data": {
      "image/png": "[encoded data removed]",
      "text/plain": [
       "<Figure size 432x288 with 1 Axes>"
      ]
     },
     "metadata": {
      "needs_background": "light"
     },
     "output_type": "display_data"
    }
   ],
   "source": [
    "sns.countplot(data=image_data, x='target')"
   ]
  },
  {
   "cell_type": "code",
   "execution_count": 26,
   "metadata": {},
   "outputs": [
    {
     "data": {
      "text/html": [
       "<div>\n",
       "<style scoped>\n",
       "    .dataframe tbody tr th:only-of-type {\n",
       "        vertical-align: middle;\n",
       "    }\n",
       "\n",
       "    .dataframe tbody tr th {\n",
       "        vertical-align: top;\n",
       "    }\n",
       "\n",
       "    .dataframe thead th {\n",
       "        text-align: right;\n",
       "    }\n",
       "</style>\n",
       "<table border=\"1\" class=\"dataframe\">\n",
       "  <thead>\n",
       "    <tr style=\"text-align: right;\">\n",
       "      <th></th>\n",
       "      <th>images</th>\n",
       "      <th>target</th>\n",
       "    </tr>\n",
       "  </thead>\n",
       "  <tbody>\n",
       "    <tr>\n",
       "      <th>0</th>\n",
       "      <td>[[[132, 87, 140], [161, 118, 159], [138, 94, 1...</td>\n",
       "      <td>1</td>\n",
       "    </tr>\n",
       "    <tr>\n",
       "      <th>1</th>\n",
       "      <td>[[[148, 103, 142], [171, 127, 175], [190, 161,...</td>\n",
       "      <td>1</td>\n",
       "    </tr>\n",
       "    <tr>\n",
       "      <th>2</th>\n",
       "      <td>[[[146, 105, 132], [163, 117, 157], [161, 120,...</td>\n",
       "      <td>1</td>\n",
       "    </tr>\n",
       "    <tr>\n",
       "      <th>3</th>\n",
       "      <td>[[[199, 176, 196], [143, 99, 166], [152, 111, ...</td>\n",
       "      <td>1</td>\n",
       "    </tr>\n",
       "    <tr>\n",
       "      <th>4</th>\n",
       "      <td>[[[111, 67, 118], [123, 73, 113], [170, 133, 1...</td>\n",
       "      <td>1</td>\n",
       "    </tr>\n",
       "  </tbody>\n",
       "</table>\n",
       "</div>"
      ],
      "text/plain": [
       "                                              images  target\n",
       "0  [[[132, 87, 140], [161, 118, 159], [138, 94, 1...       1\n",
       "1  [[[148, 103, 142], [171, 127, 175], [190, 161,...       1\n",
       "2  [[[146, 105, 132], [163, 117, 157], [161, 120,...       1\n",
       "3  [[[199, 176, 196], [143, 99, 166], [152, 111, ...       1\n",
       "4  [[[111, 67, 118], [123, 73, 113], [170, 133, 1...       1"
      ]
     },
     "execution_count": 26,
     "metadata": {},
     "output_type": "execute_result"
    }
   ],
   "source": [
    "image_data.head()"
   ]
  },
  {
   "cell_type": "markdown",
   "metadata": {},
   "source": [
    "Now a few helper functions to make tasks easier and the code less clumsy."
   ]
  },
  {
   "cell_type": "code",
   "execution_count": 27,
   "metadata": {},
   "outputs": [],
   "source": [
    "def plot_confusion_matrix(cm,\n",
    "                          target_names,\n",
    "                          title='Confusion matrix',\n",
    "                          cmap=None,\n",
    "                          normalize=True):\n",
    "    \"\"\"\n",
    "    \n",
    "    Arguments\n",
    "    ---------\n",
    "    cm:           confusion matrix from sklearn.metrics.confusion_matrix\n",
    "\n",
    "    target_names: given classification classes such as [0, 1, 2]\n",
    "                  the class names, for example: ['high', 'medium', 'low']\n",
    "\n",
    "    title:        the text to display at the top of the matrix\n",
    "\n",
    "    cmap:         the gradient of the values displayed from matplotlib.pyplot.cm\n",
    "                  see http://matplotlib.org/examples/color/colormaps_reference.html\n",
    "                  plt.get_cmap('jet') or plt.cm.Blues\n",
    "\n",
    "    normalize:    If False, plot the raw numbers\n",
    "                  If True, plot the proportions\n",
    "\n",
    "    Usage\n",
    "    -----\n",
    "    plot_confusion_matrix(cm           = cm,                  # confusion matrix created by\n",
    "                                                              # sklearn.metrics.confusion_matrix\n",
    "                          normalize    = True,                # show proportions\n",
    "                          target_names = y_labels_vals,       # list of names of the classes\n",
    "                          title        = best_estimator_name) # title of graph\n",
    "\n",
    "    Citiation\n",
    "    ---------\n",
    "    http://scikit-learn.org/stable/auto_examples/model_selection/plot_confusion_matrix.html\n",
    "\n",
    "    \"\"\"\n",
    "    \n",
    "    accuracy = np.trace(cm) / float(np.sum(cm))\n",
    "    misclass = 1 - accuracy\n",
    "\n",
    "    if cmap is None:\n",
    "        cmap = plt.get_cmap('Blues')\n",
    "\n",
    "    plt.figure(figsize=(8, 6))\n",
    "    plt.imshow(cm, interpolation='nearest', cmap=cmap)\n",
    "    plt.title(title)\n",
    "    plt.colorbar()\n",
    "\n",
    "    if target_names is not None:\n",
    "        tick_marks = np.arange(len(target_names))\n",
    "        plt.xticks(tick_marks, target_names, rotation=45)\n",
    "        plt.yticks(tick_marks, target_names)\n",
    "\n",
    "    if normalize:\n",
    "        cm = cm.astype('float') / cm.sum(axis=1)[:, np.newaxis]\n",
    "\n",
    "\n",
    "    thresh = cm.max() / 1.5 if normalize else cm.max() / 2\n",
    "    for i, j in itertools.product(range(cm.shape[0]), range(cm.shape[1])):\n",
    "        if normalize:\n",
    "            plt.text(j, i, \"{:0.4f}\".format(cm[i, j]),\n",
    "                     horizontalalignment=\"center\",\n",
    "                     color=\"white\" if cm[i, j] > thresh else \"black\")\n",
    "        else:\n",
    "            plt.text(j, i, \"{:,}\".format(cm[i, j]),\n",
    "                     horizontalalignment=\"center\",\n",
    "                     color=\"white\" if cm[i, j] > thresh else \"black\")\n",
    "\n",
    "\n",
    "    plt.tight_layout()\n",
    "    plt.ylabel('True label')\n",
    "    plt.xlabel('Predicted label\\naccuracy={:0.4f}; misclass={:0.4f}'.format(accuracy, misclass))\n",
    "    plt.show()"
   ]
  },
  {
   "cell_type": "markdown",
   "metadata": {},
   "source": [
    "The above function is used to make the confusion matrix. This function is called within the runkeras function down below after the running fit_generator. "
   ]
  },
  {
   "cell_type": "code",
   "execution_count": 28,
   "metadata": {},
   "outputs": [],
   "source": [
    "def plot_learning_curve(history):\n",
    "    plt.figure(figsize=(8,8))\n",
    "    plt.subplot(1,2,1)\n",
    "    \n",
    "    plt.plot(history.history['accuracy'])\n",
    "    plt.plot(history.history['val_accuracy'])\n",
    "    plt.title('model accuracy')\n",
    "    plt.ylabel('accuracy')\n",
    "    plt.xlabel('epoch')\n",
    "    plt.legend(['train', 'test'], loc='upper left')\n",
    "    plt.show()\n",
    "    \n",
    "    \n",
    "    plt.subplot(1,2,2)\n",
    "    \n",
    "    plt.plot(history.history['loss'])\n",
    "    plt.plot(history.history['val_loss'])\n",
    "    plt.title('model loss')\n",
    "    plt.ylabel('loss')\n",
    "    plt.xlabel('epoch')\n",
    "    plt.legend(['train', 'test'])\n",
    "    plt.show()\n",
    "    \n",
    "\n"
   ]
  },
  {
   "cell_type": "markdown",
   "metadata": {},
   "source": [
    "The above function is used for plotting the learning curve. When we use .fit or .fit_generator, the final return value contains the history for each epoch. This data can also be seen without the graphical representaion by mentioning the appropriate verbose level. "
   ]
  },
  {
   "cell_type": "code",
   "execution_count": null,
   "metadata": {},
   "outputs": [],
   "source": []
  },
  {
   "cell_type": "markdown",
   "metadata": {},
   "source": [
    "Now we have to convert the data such that it is applicable for training the model. Converting the images into numpy arrays and dividing the values by 255. \n",
    "\n",
    "The pixel colour intensity varies form 0 to 255 (8-bit) for Red, Green and Blue individually. But when we have data that lies in between 0 and 1 it is much more compatible many different types of models. "
   ]
  },
  {
   "cell_type": "code",
   "execution_count": 29,
   "metadata": {},
   "outputs": [],
   "source": [
    "x = np.array(x)\n",
    "x = x / 255.0\n",
    "\n",
    "x_train, x_test, y_train, y_test = train_test_split(x, y, test_size=0.3, shuffle=True)"
   ]
  },
  {
   "cell_type": "markdown",
   "metadata": {},
   "source": [
    "Converting the labels into one hot."
   ]
  },
  {
   "cell_type": "code",
   "execution_count": 30,
   "metadata": {},
   "outputs": [],
   "source": [
    "y_train_hot = to_categorical(y_train, num_classes = 2)\n",
    "\n",
    "y_test_hot = to_categorical(y_test, num_classes=2)"
   ]
  },
  {
   "cell_type": "code",
   "execution_count": null,
   "metadata": {},
   "outputs": [],
   "source": []
  },
  {
   "cell_type": "markdown",
   "metadata": {},
   "source": [
    "###  Training"
   ]
  },
  {
   "cell_type": "code",
   "execution_count": 37,
   "metadata": {},
   "outputs": [],
   "source": [
    "\"\"\"\n",
    "The following function is based on one of the examples mentioned in the keras github page under examples. \n",
    "link: https://github.com/keras-team/keras/blob/master/examples/mnist_cnn.py\n",
    "\"\"\"\n",
    "\n",
    "\n",
    "def runkeras(a, b, c, d):\n",
    "    batch_size = 128\n",
    "    num_classes = 2\n",
    "    epochs = 8\n",
    "\n",
    "    img_rows,img_cols=50,50\n",
    "    input_shape = (img_rows, img_cols, 3)\n",
    "    model = Sequential()\n",
    "    model.add(Conv2D(32, kernel_size=(3, 3),\n",
    "                     activation='relu',\n",
    "                     input_shape=input_shape))\n",
    "    model.add(Conv2D(64, (3, 3), activation='relu'))\n",
    "    model.add(MaxPooling2D(pool_size=(2, 2)))\n",
    "    model.add(Dropout(0.25))\n",
    "    model.add(Flatten())\n",
    "    model.add(Dense(128, activation='relu'))\n",
    "    model.add(Dropout(0.5))\n",
    "    model.add(Dense(num_classes, activation='softmax'))\n",
    "    model.compile(loss=keras.losses.categorical_crossentropy,\n",
    "                  optimizer=keras.optimizers.Adadelta(),\n",
    "                  metrics=['accuracy'])\n",
    "    \n",
    "    \n",
    "    datagen = ImageDataGenerator(featurewise_center=False, samplewise_center=False, zca_whitening=False, \n",
    "                                 rotation_range=45, width_shift_range=0.2, height_shift_range=0.2, \n",
    "                                 horizontal_flip=True, vertical_flip=True)\n",
    "    #Rotation_range is angluar limit within which the image is randomly rotated.\n",
    "    # Width_shift_range, hight_shift_range shifts the images randomly by the mentioned amount. \n",
    "    \n",
    "    history = model.fit_generator(datagen.flow(a, b, batch_size=32), steps_per_epoch=len(a) / 32, epochs=epochs,\n",
    "                                  validation_data=[c, d])\n",
    "    \n",
    "    score = model.evaluate(c, d, verbose=0)\n",
    "    print('Test Loss:', score[0])\n",
    "    print('Test Accuracy:', score[1])\n",
    "    \n",
    "    y_pred = model.predict(c)\n",
    "    map_characters = {0: 'IDC(-)', 1: 'IDC(+)'}\n",
    "    print('\\n', classification_report(np.where(d > 0)[1], np.argmax(y_pred, axis=1), target_names=list(map_characters.values())), sep='')  \n",
    "    \n",
    "    plot_learning_curve(history)\n",
    "    \n",
    "    Y_pred_classes = np.argmax(y_pred,axis=1) # Returns the max value of all the values in y_pred\n",
    "    y_test = np.argmax(d, axis=1) # Return the max value of all the values in the testing set. \n",
    "    \n",
    "    \n",
    "    confusion_mat = confusion_matrix(y_test, Y_pred_classes)\n",
    "    \n",
    "    plot_confusion_matrix(confusion_mat, target_names = list(map_characters.values()))\n",
    "\n",
    "    \n"
   ]
  },
  {
   "cell_type": "markdown",
   "metadata": {},
   "source": [
    "In the above model the use of class_weights is not seen. Class weights is used when the training dataset is unbalenced like the present scenario. However since the function: create_dataset() makes sure that we have equal number of both IDC(+) and IDC(-), the use of class weights is limited here. \n",
    "\n",
    "Although when using larger datasets for training especially when the create_dataset() doesn't return equal number we have to use class weights. "
   ]
  },
  {
   "cell_type": "markdown",
   "metadata": {},
   "source": [
    "Also the ImageDataGenerator is almost a must. The model can be trained without using and substituting fit_generator with .fit, but the accuracy of the model is very unstable. Such models can't be used to make any meaningful predictions and hence are to be avoided. "
   ]
  },
  {
   "cell_type": "code",
   "execution_count": 38,
   "metadata": {},
   "outputs": [
    {
     "name": "stdout",
     "output_type": "stream",
     "text": [
      "Epoch 1/8\n",
      "   9/1968 [..............................] - ETA: 1:37:09 - loss: 1.4132 - accuracy: 0.4618"
     ]
    },
    {
     "name": "stderr",
     "output_type": "stream",
     "text": [
      "/usr/local/lib/python3.6/dist-packages/keras/callbacks/callbacks.py:95: RuntimeWarning: Method (on_train_batch_end) is slow compared to the batch update (0.223123). Check your callbacks.\n",
      "  % (hook_name, delta_t_median), RuntimeWarning)\n"
     ]
    },
    {
     "name": "stdout",
     "output_type": "stream",
     "text": [
      "1969/1968 [==============================] - 81s 41ms/step - loss: 0.5246 - accuracy: 0.7540 - val_loss: 0.4247 - val_accuracy: 0.8118\n",
      "Epoch 2/8\n",
      "1969/1968 [==============================] - 55s 28ms/step - loss: 0.4590 - accuracy: 0.7959 - val_loss: 0.4195 - val_accuracy: 0.8207\n",
      "Epoch 3/8\n",
      "1969/1968 [==============================] - 57s 29ms/step - loss: 0.4415 - accuracy: 0.8078 - val_loss: 0.4129 - val_accuracy: 0.8187\n",
      "Epoch 4/8\n",
      "1969/1968 [==============================] - 56s 28ms/step - loss: 0.4273 - accuracy: 0.8158 - val_loss: 0.3924 - val_accuracy: 0.8316\n",
      "Epoch 5/8\n",
      "1969/1968 [==============================] - 57s 29ms/step - loss: 0.4159 - accuracy: 0.8199 - val_loss: 0.4122 - val_accuracy: 0.8257\n",
      "Epoch 6/8\n",
      "1969/1968 [==============================] - 58s 30ms/step - loss: 0.4119 - accuracy: 0.8231 - val_loss: 0.3818 - val_accuracy: 0.8366\n",
      "Epoch 7/8\n",
      "1969/1968 [==============================] - 59s 30ms/step - loss: 0.4067 - accuracy: 0.8264 - val_loss: 0.3826 - val_accuracy: 0.8406\n",
      "Epoch 8/8\n",
      "1969/1968 [==============================] - 59s 30ms/step - loss: 0.4015 - accuracy: 0.8288 - val_loss: 0.3716 - val_accuracy: 0.8436\n",
      "Test Loss: 0.37156710330645243\n",
      "Test Accuracy: 0.8435925841331482\n",
      "\n",
      "              precision    recall  f1-score   support\n",
      "\n",
      "      IDC(-)       0.86      0.81      0.84     13439\n",
      "      IDC(+)       0.83      0.87      0.85     13561\n",
      "\n",
      "    accuracy                           0.84     27000\n",
      "   macro avg       0.84      0.84      0.84     27000\n",
      "weighted avg       0.84      0.84      0.84     27000\n",
      "\n"
     ]
    },
    {
     "data": {
      "image/png": "[encoded data removed]",
      "text/plain": [
       "<Figure size 576x576 with 1 Axes>"
      ]
     },
     "metadata": {
      "needs_background": "light"
     },
     "output_type": "display_data"
    },
    {
     "data": {
      "image/png": "[encoded data removed]",
      "text/plain": [
       "<Figure size 432x288 with 1 Axes>"
      ]
     },
     "metadata": {
      "needs_background": "light"
     },
     "output_type": "display_data"
    },
    {
     "data": {
      "image/png": "[encoded data removed]",
      "text/plain": [
       "<Figure size 576x432 with 2 Axes>"
      ]
     },
     "metadata": {
      "needs_background": "light"
     },
     "output_type": "display_data"
    }
   ],
   "source": [
    "runkeras(x_train, y_train_hot, x_test, y_test_hot)"
   ]
  },
  {
   "cell_type": "markdown",
   "metadata": {},
   "source": [
    "As you can see that the model has achieved an accuracy of 84% with using 90000 images of the original 277524.\n",
    "\n",
    "Ways to improve this would be to use more of the dataset and also while doing that class weights should be used in model.fit_generator()"
   ]
  },
  {
   "cell_type": "code",
   "execution_count": null,
   "metadata": {},
   "outputs": [],
   "source": []
  }
 ],
 "metadata": {
  "kernelspec": {
   "display_name": "Python 3",
   "language": "python",
   "name": "python3"
  },
  "language_info": {
   "codemirror_mode": {
    "name": "ipython",
    "version": 3
   },
   "file_extension": ".py",
   "mimetype": "text/x-python",
   "name": "python",
   "nbconvert_exporter": "python",
   "pygments_lexer": "ipython3",
   "version": "3.6.8"
  }
 },
 "nbformat": 4,
 "nbformat_minor": 4
}
